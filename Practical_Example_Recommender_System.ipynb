{
 "cells": [
  {
   "cell_type": "code",
   "execution_count": 2,
   "metadata": {},
   "outputs": [
    {
     "data": {
      "text/html": [
       "<div>\n",
       "<style scoped>\n",
       "    .dataframe tbody tr th:only-of-type {\n",
       "        vertical-align: middle;\n",
       "    }\n",
       "\n",
       "    .dataframe tbody tr th {\n",
       "        vertical-align: top;\n",
       "    }\n",
       "\n",
       "    .dataframe thead th {\n",
       "        text-align: right;\n",
       "    }\n",
       "</style>\n",
       "<table border=\"1\" class=\"dataframe\">\n",
       "  <thead>\n",
       "    <tr style=\"text-align: right;\">\n",
       "      <th></th>\n",
       "      <th>uid</th>\n",
       "      <th>iid</th>\n",
       "      <th>rating</th>\n",
       "    </tr>\n",
       "  </thead>\n",
       "  <tbody>\n",
       "    <tr>\n",
       "      <th>0</th>\n",
       "      <td>1</td>\n",
       "      <td>1</td>\n",
       "      <td>2.0</td>\n",
       "    </tr>\n",
       "    <tr>\n",
       "      <th>1</th>\n",
       "      <td>1</td>\n",
       "      <td>2</td>\n",
       "      <td>4.0</td>\n",
       "    </tr>\n",
       "    <tr>\n",
       "      <th>2</th>\n",
       "      <td>1</td>\n",
       "      <td>3</td>\n",
       "      <td>3.5</td>\n",
       "    </tr>\n",
       "    <tr>\n",
       "      <th>3</th>\n",
       "      <td>1</td>\n",
       "      <td>4</td>\n",
       "      <td>3.0</td>\n",
       "    </tr>\n",
       "    <tr>\n",
       "      <th>4</th>\n",
       "      <td>1</td>\n",
       "      <td>5</td>\n",
       "      <td>4.0</td>\n",
       "    </tr>\n",
       "  </tbody>\n",
       "</table>\n",
       "</div>"
      ],
      "text/plain": [
       "   uid  iid  rating\n",
       "0    1    1     2.0\n",
       "1    1    2     4.0\n",
       "2    1    3     3.5\n",
       "3    1    4     3.0\n",
       "4    1    5     4.0"
      ]
     },
     "execution_count": 2,
     "metadata": {},
     "output_type": "execute_result"
    }
   ],
   "source": [
    "import numpy as np\n",
    "import pandas as pd\n",
    "import io\n",
    "from zipfile import ZipFile\n",
    "import urllib\n",
    "\n",
    "#Download the zipfile. I have mentioned this step because if you would like\n",
    "#to download the dataset directly from the source and unzip\n",
    "\n",
    "#Uncomment the next line to execute\n",
    "##tmpFile = urllib.request.urlopen('https://www.librec.net/datasets/filmtrust.zip')\n",
    "\n",
    "#Now you need to unzip the file\n",
    "#Uncomment the next line to execute\n",
    "##tmpFile = zipfile.ZipFile(io.BytesIO(tmpFile.read()))\n",
    "\n",
    "#open the desired file as pandas dataframe, close zipfile\n",
    "#Uncomment the next 2 lines to execute\n",
    "##dataset = pd.read_table(io.BytesIO(tmpFile.read('ratings.txt')), sep=' ', names=['uid', 'iid', 'rating'])\n",
    "##tmpFile.close()\n",
    "\n",
    "\n",
    "\n",
    "# the otherwise step would be download the same file from the source separately and unzip it\n",
    "# through the python utility in the code\n",
    "filename = \"../data/filmtrust.zip\"\n",
    "with ZipFile(filename, 'r') as zip:\n",
    "    dataset = zip.read('ratings.txt')\n",
    "\n",
    "dataset = pd.read_table(io.BytesIO(dataset), sep = ' ', names= ['uid', 'iid', 'rating'])\n",
    "\n",
    "dataset.head()"
   ]
  },
  {
   "cell_type": "code",
   "execution_count": 4,
   "metadata": {},
   "outputs": [
    {
     "name": "stdout",
     "output_type": "stream",
     "text": [
      "Review range: 0.5 to 4.0\n"
     ]
    }
   ],
   "source": [
    "#for fitting the model, the package is used surprise and we are to load the data into package\n",
    "#using the Reader class\n",
    "import surprise\n",
    "lower_rating = dataset['rating'].min()\n",
    "upper_rating = dataset['rating'].max()\n",
    "print('Review range: {0} to {1}'.format(lower_rating, upper_rating))"
   ]
  },
  {
   "cell_type": "code",
   "execution_count": 5,
   "metadata": {},
   "outputs": [
    {
     "name": "stdout",
     "output_type": "stream",
     "text": [
      "3.0028030537791928\n"
     ]
    }
   ],
   "source": [
    "#Review range default for surprise package is 1-5\n",
    "reader = surprise.Reader(rating_scale=(0.5, 4.0))\n",
    "data = surprise.Dataset.load_from_df(dataset, reader)\n",
    "\n",
    "# the method of Single Value Decomposition SVD++ will be used for the recommender system\n",
    "alg = surprise.SVDpp()\n",
    "output = alg.fit(data.build_full_trainset())\n",
    "\n",
    "#predicting the model with a specific value\n",
    "pred = alg.predict(uid='50', iid='52')\n",
    "score = pred.est\n",
    "print(score)"
   ]
  },
  {
   "cell_type": "code",
   "execution_count": 6,
   "metadata": {},
   "outputs": [
    {
     "data": {
      "text/plain": [
       "Prediction(uid=50, iid=14, r_ui=4.0, est=3.0783304988599336, details={'was_impossible': False})"
      ]
     },
     "execution_count": 6,
     "metadata": {},
     "output_type": "execute_result"
    }
   ],
   "source": [
    "#making recommendations\n",
    "\n",
    "# get the list of all movie ids\n",
    "iids = dataset['iid'].unique()\n",
    "# get the list iids that uid 50 has rated\n",
    "iids50 = dataset.loc[dataset['uid'] == 50, 'iid']\n",
    "#remove the iids that uid has rated from the list of all movie ids\n",
    "iids_to_pred = np.setdiff1d(iids, iids50)\n",
    "\n",
    "#predicting the score of the each of the movie ids that user 50 didn't rate\n",
    "testset = [[50, iid, 4.] for iid in iids_to_pred]\n",
    "predictions = alg.test(testset)\n",
    "predictions[0]"
   ]
  },
  {
   "cell_type": "code",
   "execution_count": 7,
   "metadata": {},
   "outputs": [
    {
     "name": "stdout",
     "output_type": "stream",
     "text": [
      "Top item for user 50 has iid 189 with predicted rating 4.0\n"
     ]
    }
   ],
   "source": [
    "#to find the best\n",
    "pred_ratings = np.array([pred.est for pred in predictions])\n",
    "#Find the index of the maximum predicted ratings\n",
    "i_max = pred_ratings.argmax()\n",
    "#use this to find the corresponding iid to recommend\n",
    "iid = iids_to_pred[i_max]\n",
    "print('Top item for user 50 has iid {0} with predicted rating {1}'.format(iid, pred_ratings[i_max]))"
   ]
  },
  {
   "cell_type": "code",
   "execution_count": 8,
   "metadata": {},
   "outputs": [
    {
     "name": "stdout",
     "output_type": "stream",
     "text": [
      "{'lr_all': 0.01, 'reg_all': 0.1}\n"
     ]
    }
   ],
   "source": [
    "#evaluation of the model\n",
    "param_grid = {'lr_all' : [.001, .01], 'reg_all' : [.1, .5]}\n",
    "gs = surprise.model_selection.GridSearchCV(surprise.SVDpp, param_grid, measures=['rmse', 'mae'], cv=3)\n",
    "gs.fit(data)\n",
    "\n",
    "#printing the combination of the parameters that gave the best score\n",
    "print(gs.best_params['rmse'])"
   ]
  },
  {
   "cell_type": "code",
   "execution_count": 9,
   "metadata": {},
   "outputs": [
    {
     "name": "stdout",
     "output_type": "stream",
     "text": [
      "Evaluating RMSE, MAE of algorithm SVDpp on 5 split(s).\n",
      "\n",
      "                  Fold 1  Fold 2  Fold 3  Fold 4  Fold 5  Mean    Std     \n",
      "RMSE (testset)    0.8237  0.8317  0.8263  0.8365  0.8242  0.8285  0.0049  \n",
      "MAE (testset)     0.6521  0.6527  0.6544  0.6642  0.6547  0.6556  0.0044  \n",
      "Fit time          32.46   33.00   35.97   42.95   45.41   37.96   5.28    \n",
      "Test time         0.69    0.70    1.20    0.86    0.77    0.84    0.19    \n"
     ]
    }
   ],
   "source": [
    "#cross validation\n",
    "alg = surprise.SVDpp(lr_all=.001)\n",
    "output = surprise.model_selection.cross_validate(alg, data, verbose=True)"
   ]
  },
  {
   "cell_type": "code",
   "execution_count": null,
   "metadata": {},
   "outputs": [],
   "source": []
  }
 ],
 "metadata": {
  "kernelspec": {
   "display_name": "Python 3",
   "language": "python",
   "name": "python3"
  },
  "language_info": {
   "codemirror_mode": {
    "name": "ipython",
    "version": 3
   },
   "file_extension": ".py",
   "mimetype": "text/x-python",
   "name": "python",
   "nbconvert_exporter": "python",
   "pygments_lexer": "ipython3",
   "version": "3.7.1"
  }
 },
 "nbformat": 4,
 "nbformat_minor": 2
}
